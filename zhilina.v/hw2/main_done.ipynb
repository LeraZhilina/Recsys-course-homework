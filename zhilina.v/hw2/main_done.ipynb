{
 "cells": [
  {
   "cell_type": "code",
   "execution_count": 1,
   "metadata": {},
   "outputs": [],
   "source": [
    "import numpy as np\n",
    "import pandas as pd\n",
    "import time\n",
    "\n",
    "from functools import partial\n",
    "from scipy.stats import randint, uniform\n",
    "from sim_lib import simulation\n",
    "from scipy.stats import beta\n",
    "\n",
    "pd.options.mode.chained_assignment = None"
   ]
  },
  {
   "cell_type": "code",
   "execution_count": 3,
   "metadata": {},
   "outputs": [],
   "source": [
    "def eps_greedy(history: pd.DataFrame, eps: float):\n",
    "    if uniform.rvs() < eps:\n",
    "        n = history.shape[0]\n",
    "        return history.index[randint.rvs(0, n)]\n",
    "\n",
    "    ctr = history['clicks'] / (history['impressions'] + 10)\n",
    "    n = np.argmax(ctr)\n",
    "    return history.index[n]\n"
   ]
  },
  {
   "cell_type": "code",
   "execution_count": 7,
   "metadata": {},
   "outputs": [
    {
     "name": "stdout",
     "output_type": "stream",
     "text": [
      "1 impressions have been simulated\n",
      "10001 impressions have been simulated\n",
      "20001 impressions have been simulated\n",
      "30001 impressions have been simulated\n",
      "40001 impressions have been simulated\n",
      "50001 impressions have been simulated\n",
      "60001 impressions have been simulated\n",
      "70001 impressions have been simulated\n",
      "80001 impressions have been simulated\n",
      "90001 impressions have been simulated\n",
      "100001 impressions have been simulated\n",
      "110001 impressions have been simulated\n",
      "120001 impressions have been simulated\n",
      "130001 impressions have been simulated\n",
      "140001 impressions have been simulated\n",
      "150001 impressions have been simulated\n",
      "160001 impressions have been simulated\n",
      "170001 impressions have been simulated\n",
      "180001 impressions have been simulated\n",
      "190001 impressions have been simulated\n"
     ]
    },
    {
     "data": {
      "text/plain": [
       "2475.5922060012817"
      ]
     },
     "execution_count": 7,
     "metadata": {},
     "output_type": "execute_result"
    }
   ],
   "source": [
    "# seed for homework\n",
    "np.random.seed(seed=384758917)\n",
    "\n",
    "start = time.time()\n",
    "output = simulation(t_sampler, n=200000)\n",
    "end = time.time()\n",
    "end - start"
   ]
  },
  {
   "cell_type": "code",
   "execution_count": 8,
   "metadata": {},
   "outputs": [
    {
     "data": {
      "text/plain": [
       "(14125.238382271236, 0.07062619191135618, 207)"
      ]
     },
     "execution_count": 8,
     "metadata": {},
     "output_type": "execute_result"
    }
   ],
   "source": [
    "# baseline regret\n",
    "output['regret'], output['regret']/output['rounds'],  output['total_banners']"
   ]
  },
  {
   "cell_type": "code",
   "execution_count": 9,
   "metadata": {},
   "outputs": [
    {
     "data": {
      "text/html": [
       "<div>\n",
       "<style scoped>\n",
       "    .dataframe tbody tr th:only-of-type {\n",
       "        vertical-align: middle;\n",
       "    }\n",
       "\n",
       "    .dataframe tbody tr th {\n",
       "        vertical-align: top;\n",
       "    }\n",
       "\n",
       "    .dataframe thead th {\n",
       "        text-align: right;\n",
       "    }\n",
       "</style>\n",
       "<table border=\"1\" class=\"dataframe\">\n",
       "  <thead>\n",
       "    <tr style=\"text-align: right;\">\n",
       "      <th></th>\n",
       "      <th>impressions</th>\n",
       "      <th>clicks</th>\n",
       "      <th>lifetime</th>\n",
       "      <th>p</th>\n",
       "    </tr>\n",
       "  </thead>\n",
       "  <tbody>\n",
       "    <tr>\n",
       "      <th>186</th>\n",
       "      <td>2294.0</td>\n",
       "      <td>130.0</td>\n",
       "      <td>29326.096778</td>\n",
       "      <td>0.055519</td>\n",
       "    </tr>\n",
       "    <tr>\n",
       "      <th>189</th>\n",
       "      <td>2242.0</td>\n",
       "      <td>17.0</td>\n",
       "      <td>3391.914442</td>\n",
       "      <td>0.007924</td>\n",
       "    </tr>\n",
       "    <tr>\n",
       "      <th>195</th>\n",
       "      <td>1849.0</td>\n",
       "      <td>43.0</td>\n",
       "      <td>11664.136320</td>\n",
       "      <td>0.020399</td>\n",
       "    </tr>\n",
       "    <tr>\n",
       "      <th>204</th>\n",
       "      <td>654.0</td>\n",
       "      <td>14.0</td>\n",
       "      <td>26138.491660</td>\n",
       "      <td>0.028943</td>\n",
       "    </tr>\n",
       "    <tr>\n",
       "      <th>205</th>\n",
       "      <td>474.0</td>\n",
       "      <td>32.0</td>\n",
       "      <td>46021.789260</td>\n",
       "      <td>0.057974</td>\n",
       "    </tr>\n",
       "    <tr>\n",
       "      <th>206</th>\n",
       "      <td>223.0</td>\n",
       "      <td>8.0</td>\n",
       "      <td>6280.605263</td>\n",
       "      <td>0.036934</td>\n",
       "    </tr>\n",
       "  </tbody>\n",
       "</table>\n",
       "</div>"
      ],
      "text/plain": [
       "     impressions  clicks      lifetime         p\n",
       "186       2294.0   130.0  29326.096778  0.055519\n",
       "189       2242.0    17.0   3391.914442  0.007924\n",
       "195       1849.0    43.0  11664.136320  0.020399\n",
       "204        654.0    14.0  26138.491660  0.028943\n",
       "205        474.0    32.0  46021.789260  0.057974\n",
       "206        223.0     8.0   6280.605263  0.036934"
      ]
     },
     "execution_count": 9,
     "metadata": {},
     "output_type": "execute_result"
    }
   ],
   "source": [
    "output['history']"
   ]
  },
  {
   "cell_type": "code",
   "execution_count": 6,
   "metadata": {},
   "outputs": [],
   "source": [
    "def bandit_decorator(func):\n",
    "#для первого вызова\n",
    "    curr_ind = None    \n",
    "    curr_click = None    \n",
    "    old_score = None\n",
    "    def inner(new_score):\n",
    "        curr_ind = None \n",
    "        curr_click = None   \n",
    "        old_score = None \n",
    "        if old_score is None:    \n",
    "            new_score[[\"alpha\", \"betta\"]] = 1\n",
    "            old_score, curr_ind, curr_click = func(new_score)\n",
    "            return curr_ind\n",
    "        else:\n",
    "            new_score = pd.merge(old_score[old_score.columns.difference(new_score.columns) ], new_score, left_index=True, right_index=True, how=\"right\")\n",
    "            new_score[[\"alpha\", \"betta\"]].fillna(1, inplace=True)\n",
    "            \n",
    "            if curr_ind in new_score.index:\n",
    "                if new_score.loc[curr_ind, \"clicks\"] < curr_click: # провал\n",
    "                                new_score.loc[curr_ind, \"betta\"] += 1  #повышаем значение бетта, понижаем шанс на получение хорошего скора\n",
    "                else: # успех\n",
    "                    new_score.loc[curr_ind, \"alpha\"] += 2 #повышаем значение альфа, повышаем шанс на получение хорошего скора  \n",
    "            \n",
    "            old_score, curr_ind, curr_click = func(new_score)\n",
    "            return curr_ind\n",
    "    return inner\n",
    "\n",
    "\n",
    "@bandit_decorator\n",
    "def t_sampler(new_score):\n",
    " #получаем значение параметра из распределения бернули\n",
    "    new_score[\"score\"] = new_score[[\"alpha\", \"betta\"]].apply(lambda parameters: beta.rvs(parameters[0], parameters[1]), axis=1)\n",
    "    curr_ind = int(new_score[[\"score\"]].idxmax())\n",
    "    curr_click = new_score.loc[curr_ind, \"clicks\"]\n",
    "    return new_score, curr_ind, curr_click"
   ]
  },
  {
   "cell_type": "code",
   "execution_count": null,
   "metadata": {},
   "outputs": [],
   "source": []
  }
 ],
 "metadata": {
  "interpreter": {
   "hash": "32aa5d5522e6c2661e64cc2b2d9d8ec6a021a7ffd35acfbe880fda5f4bb90340"
  },
  "kernelspec": {
   "display_name": "Python 3",
   "language": "python",
   "name": "python3"
  },
  "language_info": {
   "codemirror_mode": {
    "name": "ipython",
    "version": 3
   },
   "file_extension": ".py",
   "mimetype": "text/x-python",
   "name": "python",
   "nbconvert_exporter": "python",
   "pygments_lexer": "ipython3",
   "version": "3.8.5"
  }
 },
 "nbformat": 4,
 "nbformat_minor": 2
}
